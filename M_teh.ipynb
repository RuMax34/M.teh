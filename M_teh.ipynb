{
  "nbformat": 4,
  "nbformat_minor": 0,
  "metadata": {
    "colab": {
      "provenance": []
    },
    "kernelspec": {
      "name": "python3",
      "display_name": "Python 3"
    },
    "language_info": {
      "name": "python"
    }
  },
  "cells": [
    {
      "cell_type": "code",
      "source": [
        "class PyramidCompressor:\n",
        "    def __init__(self, input_string):\n",
        "        self.input_string = input_string\n",
        "        self.out = input_string\n",
        "\n",
        "    def compress(self):\n",
        "        while self.can_compress():\n",
        "            self.compress_once()\n",
        "\n",
        "    def can_compress(self):\n",
        "        if len(self.out) == 1:\n",
        "            return False\n",
        "        else:\n",
        "            m = self.num_layer()\n",
        "            glob = 0\n",
        "            flag = True\n",
        "            input_str = self.out\n",
        "            for i in range(m, 0, -2):  # номер текущего уровня\n",
        "                p = 2 * i - 1  # количество элементов в текущей строке\n",
        "                if (\n",
        "                    input_str[glob]\n",
        "                    == input_str[glob + 1]\n",
        "                    == input_str[glob + 2]\n",
        "                    == input_str[glob + p]\n",
        "                ) is False:\n",
        "                    flag = False\n",
        "                    break\n",
        "\n",
        "                for j in range(int((i - 2) / 2)):  # количество двойных пирамид(перевернутая и не перевернутая)\n",
        "                    if (\n",
        "                        (\n",
        "                            input_str[glob + 4 * j + 3]\n",
        "                            == input_str[glob + p + 1 + j * 4]\n",
        "                            == input_str[glob + p + 2 + j * 4]\n",
        "                            == input_str[glob + p + 3 + j * 4]\n",
        "                        )\n",
        "                        is False\n",
        "                    ) or (\n",
        "                        input_str[glob + 4 * j + 4]\n",
        "                        == input_str[glob + 4 * j + 5]\n",
        "                        == input_str[glob + 4 * j + 6]\n",
        "                        == input_str[glob + p + 4 * j + 4]\n",
        "                    ) is False:\n",
        "                        flag = False\n",
        "                        break\n",
        "                glob += 4 * i - 4  # перехожим на 2 уровня вверх\n",
        "            return flag\n",
        "\n",
        "    def compress_once(self):\n",
        "        input_str = self.out\n",
        "        new = []\n",
        "        glob = 0\n",
        "        m = self.num_layer()\n",
        "        for i in range(m, 0, -2):  # номер текущего уровня\n",
        "            p = 2 * i - 1  # количество элементов в текущей строке\n",
        "            new.append(input_str[glob])\n",
        "            for j in range(int((i - 2) / 2)):  # количество двойных пирамид(перевернутая и не перевернутая)\n",
        "                new.append(input_str[glob + 4 * j + 3])\n",
        "                new.append(input_str[glob + 4 * j + 4])\n",
        "            glob += 4 * i - 4  # перехожим на 2 уровня вверх\n",
        "        new_str = \"\".join(new)\n",
        "        self.out = new_str\n",
        "\n",
        "    def num_layer(self):  # количество уровней пирамидки\n",
        "        n = len(self.out)\n",
        "        n_i = n\n",
        "        i = 1\n",
        "        num_items_on_layer = []\n",
        "        while n_i > 0:\n",
        "            num_items_on_layer.append(i)\n",
        "            i += 2\n",
        "            n_i -= i\n",
        "        m = len(num_items_on_layer)\n",
        "        return m"
      ],
      "metadata": {
        "id": "MkpQ9NykVgl6"
      },
      "execution_count": 431,
      "outputs": []
    },
    {
      "cell_type": "code",
      "source": [
        "with open(\"input.txt\", \"r\") as input_file:\n",
        "    input_str = input_file.read().strip()\n",
        "print(f'imput:  {input_str}')\n",
        "a = PyramidCompressor(input_str)\n",
        "a.compress()\n",
        "with open(\"output.txt\", \"w\") as output_file:\n",
        "    output_file.write(a.out)\n",
        "print(f'output: {a.out}')"
      ],
      "metadata": {
        "colab": {
          "base_uri": "https://localhost:8080/"
        },
        "id": "O066rVPvSSAd",
        "outputId": "661c876a-6fcd-4980-f4bf-f03114bb1511"
      },
      "execution_count": 430,
      "outputs": [
        {
          "output_type": "stream",
          "name": "stdout",
          "text": [
            "imput:  aaaaaaabcccccccaaaaabbbcccccaaabbbbbcccabbbbbbbcdddddddddddddddd\n",
            "output: abcd\n"
          ]
        }
      ]
    }
  ]
}
